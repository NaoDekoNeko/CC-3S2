{
  "cells": [
    {
      "attachments": {},
      "cell_type": "markdown",
      "metadata": {
        "colab_type": "text",
        "id": "view-in-github"
      },
      "source": [
        "<a href=\"https://colab.research.google.com/github/kapumota/Actividades/blob/main/Caso-Refactorizacion.ipynb\" target=\"_parent\"><img src=\"https://colab.research.google.com/assets/colab-badge.svg\" alt=\"Open In Colab\"/></a>"
      ]
    },
    {
      "attachments": {},
      "cell_type": "markdown",
      "metadata": {
        "id": "ns2THSRAVoH-"
      },
      "source": [
        "### Refactorización con pruebas en Python\n",
        "\n",
        "\n",
        "El caso de uso simple es el de una API de servicio a la que podemos acceder y que produce datos en formato JSON, es decir, una lista de elementos como la que se muestra aquí.\n"
      ]
    },
    {
      "cell_type": "code",
      "execution_count": 1,
      "metadata": {
        "colab": {
          "base_uri": "https://localhost:8080/"
        },
        "id": "vyKxC5j4Vr74",
        "outputId": "0082a398-dfae-4300-e5ca-950928bd0da5"
      },
      "outputs": [
        {
          "data": {
            "text/plain": [
              "{'edad': 20, 'apodo': 'kapumota', 'nombre': 'Checha', 'salario': '$943'}"
            ]
          },
          "execution_count": 1,
          "metadata": {},
          "output_type": "execute_result"
        }
      ],
      "source": [
        "{\n",
        "    \"edad\": 20,\n",
        "    \"apodo\": \"kapumota\",\n",
        "    \"nombre\": \"Checha\",\n",
        "    \"salario\": \"$943\"\n",
        "}"
      ]
    },
    {
      "attachments": {},
      "cell_type": "markdown",
      "metadata": {
        "id": "KR_oA6MTV9jU"
      },
      "source": [
        "Escribimos una clase que calcula algunas estadísticas sobre los datos de entrada. Esta clase, llamada `DataStats`  proporciona un solo método `stats()`, cuyas entradas son los datos devueltos por el servicio (en formato JSON) y dos números enteros llamados `iedad` e `isalario`. \n",
        "\n",
        "El codigo es el siguiente:\n"
      ]
    },
    {
      "cell_type": "code",
      "execution_count": 7,
      "metadata": {
        "colab": {
          "base_uri": "https://localhost:8080/"
        },
        "id": "HwV3CRARV5o1",
        "outputId": "cecdd145-2208-4dd0-8cc9-89e96d818df5"
      },
      "outputs": [
        {
          "name": "stdout",
          "output_type": "stream",
          "text": [
            "Overwriting datastats.py\n"
          ]
        }
      ],
      "source": [
        "%%writefile datastats.py \n",
        "\n",
        "import math\n",
        "import json\n",
        "\n",
        "\n",
        "class DataStats:\n",
        "  def stats(self, data, iedad, isalario):\n",
        "    incremento_edad_promedio = math.floor(sum([e['edad'] for e in data])/len(data)) - iedad\n",
        "    incremento_salario_promedio = math.floor( sum([int(e['salario'][1:]) for e in data])/len(data)) - isalario\n",
        "\n",
        "    incremento_anual_promedio = math.floor(incremento_salario_promedio/incremento_edad_promedio)\n",
        "\n",
        "    salarios = [int(e['salario'][1:]) for e in data]\n",
        "    limite = '$' + str(max(salarios))\n",
        "\n",
        "    max_salario = [e for e in data if e['salario'] == limite]\n",
        "\n",
        "    salarios = [int(d['salario'][1:]) for d in data]\n",
        "    min_salario = [e for e in data if e['salario'] ==\n",
        "                      '${}'.format(str(min(salarios)))]\n",
        "\n",
        "    return json.dumps({\n",
        "        'edad_promedio': math.floor(sum([e['edad'] for e in data])/len(data)),\n",
        "        'salario_promedio': math.floor(sum( [int(e['salario'][1:]) for e in data])/len(data)),\n",
        "        'incremento_anual_promedio': incremento_anual_promedio,\n",
        "        'max_salario': max_salario,\n",
        "        'min_salario': min_salario\n",
        "        })"
      ]
    },
    {
      "attachments": {},
      "cell_type": "markdown",
      "metadata": {
        "id": "WOu6va8sWjUG"
      },
      "source": [
        "**Pregunta:** ¿Puedes encontrar algunos problemas de la clase anterior?"
      ]
    },
    {
      "cell_type": "code",
      "execution_count": null,
      "metadata": {
        "id": "pW_0FyxhWa1k"
      },
      "outputs": [],
      "source": [
        "# Hay repetición de código\n",
        "# No hay método Init\n",
        "# Es dificil de depurar"
      ]
    },
    {
      "attachments": {},
      "cell_type": "markdown",
      "metadata": {
        "id": "zaln0c-7bvmq"
      },
      "source": [
        "#### 1 Prueba de los endpoints"
      ]
    },
    {
      "attachments": {},
      "cell_type": "markdown",
      "metadata": {
        "id": "lCKJcvmvXXpm"
      },
      "source": [
        "Sean los siguientes datos:"
      ]
    },
    {
      "cell_type": "code",
      "execution_count": 2,
      "metadata": {
        "id": "2qeo7s8wW6HC"
      },
      "outputs": [],
      "source": [
        "test_data = [\n",
        "    {\n",
        "        \"id\": 1,\n",
        "        \"nombre\": \"Irene\",\n",
        "        \"apodo\": \"Lara\",\n",
        "        \"edad\": 68,\n",
        "        \"salario\": \"$27888\"\n",
        "    },\n",
        "    {\n",
        "        \"id\": 2,\n",
        "        \"nombre\": \"Claudio\",\n",
        "        \"apodo\": \"Avila\",\n",
        "        \"edad\": 49,\n",
        "        \"salario\": \"$67137\"\n",
        "    },\n",
        "    {\n",
        "        \"id\": 3,\n",
        "        \"nombre\": \"Tomo\",\n",
        "        \"apodo\": \"Frugs\",\n",
        "        \"edad\": 70,\n",
        "        \"salario\": \"$70472\"\n",
        "    }\n",
        "]"
      ]
    },
    {
      "cell_type": "code",
      "execution_count": null,
      "metadata": {},
      "outputs": [],
      "source": []
    },
    {
      "attachments": {},
      "cell_type": "markdown",
      "metadata": {
        "id": "XKGfJ2wYXj5C"
      },
      "source": [
        "**Pregunta:** Llamando al método `stats()` con esa salida, con `iedad` establecido en `20` e `isalario` establecido en `20000`, cual es el resultado JSON."
      ]
    },
    {
      "cell_type": "code",
      "execution_count": 3,
      "metadata": {},
      "outputs": [
        {
          "data": {
            "text/plain": [
              "'{\"edad_promedio\": 62, \"salario_promedio\": 55165, \"incremento_anual_promedio\": 837, \"max_salario\": [{\"id\": 3, \"nombre\": \"Tomo\", \"apodo\": \"Frugs\", \"edad\": 70, \"salario\": \"$70472\"}], \"min_salario\": [{\"id\": 1, \"nombre\": \"Irene\", \"apodo\": \"Lara\", \"edad\": 68, \"salario\": \"$27888\"}]}'"
            ]
          },
          "execution_count": 3,
          "metadata": {},
          "output_type": "execute_result"
        }
      ],
      "source": [
        "# Tus respuestas\n",
        "from datastats import DataStats\n",
        "ds = DataStats()\n",
        "ds.stats(test_data,20,20000)"
      ]
    },
    {
      "cell_type": "code",
      "execution_count": null,
      "metadata": {},
      "outputs": [],
      "source": []
    },
    {
      "cell_type": "code",
      "execution_count": 4,
      "metadata": {
        "colab": {
          "base_uri": "https://localhost:8080/"
        },
        "id": "1G8dpDRpaAEN",
        "outputId": "99925365-01dc-4807-d424-ac4ec21057e2"
      },
      "outputs": [
        {
          "name": "stdout",
          "output_type": "stream",
          "text": [
            "Overwriting test_datastats.py\n"
          ]
        }
      ],
      "source": [
        "%%writefile test_datastats.py\n",
        "\n",
        "import json\n",
        "\n",
        "from datastats import DataStats\n",
        "\n",
        "\n",
        "def test_json():\n",
        "    test_data = [\n",
        "    {\n",
        "        \"id\": 1,\n",
        "        \"nombre\": \"Irene\",\n",
        "        \"apodo\": \"Lara\",\n",
        "        \"edad\": 68,\n",
        "        \"salario\": \"$27888\"\n",
        "    },\n",
        "    {\n",
        "        \"id\": 2,\n",
        "        \"nombre\": \"Claudio\",\n",
        "        \"apodo\": \"Avila\",\n",
        "        \"edad\": 49,\n",
        "        \"salario\": \"$67137\"\n",
        "    },\n",
        "    {\n",
        "        \"id\": 3,\n",
        "        \"nombre\": \"Tomo\",\n",
        "        \"apodo\": \"Frugs\",\n",
        "        \"edad\": 70,\n",
        "        \"salario\": \"$70472\"\n",
        "    }\n",
        "]\n",
        "   \n",
        "    ds = DataStats()\n",
        "\n",
        "    assert ds.stats(test_data, 20, 20000) == json.dumps(\n",
        "        {\n",
        "\n",
        "        \"edad_promedio\": 62,\n",
        "        \"salario_promedio\": 55165,\n",
        "        \"incremento_anual_promedio\": 837,\n",
        "        \"max_salario\": [{\n",
        "            \"id\": 3,\n",
        "            \"nombre\": \"Tomo\",\n",
        "        \"apodo\": \"Frugs\",\n",
        "        \"edad\": 70,\n",
        "        \"salario\": \"$70472\"\n",
        "    }],\n",
        "    \"min_salario\": [{\n",
        "        \"id\": 1,\n",
        "        \"nombre\": \"Irene\",\n",
        "        \"apodo\": \"Lara\",\n",
        "        \"edad\": 68,\n",
        "        \"salario\": \"$27888\"\n",
        "        }]\n",
        "    }\n",
        "        \n",
        ")"
      ]
    },
    {
      "cell_type": "code",
      "execution_count": null,
      "metadata": {},
      "outputs": [],
      "source": []
    },
    {
      "cell_type": "code",
      "execution_count": 5,
      "metadata": {
        "colab": {
          "base_uri": "https://localhost:8080/"
        },
        "id": "Xxjc4cTUc9c6",
        "outputId": "628f56d6-4caa-4cbe-872f-b9394a4ff4ee"
      },
      "outputs": [
        {
          "name": "stdout",
          "output_type": "stream",
          "text": [
            "\u001b[1m============================= test session starts =============================\u001b[0m\n",
            "platform win32 -- Python 3.11.1, pytest-7.3.1, pluggy-1.0.0 -- C:\\Users\\Ademar\\AppData\\Local\\Programs\\Python\\Python311\\python.exe\n",
            "cachedir: .pytest_cache\n",
            "rootdir: c:\\Users\\Ademar\\OneDrive\\Desktop\\CC-3S2\\Actividades\\Caso-Refact-Py\n",
            "plugins: cov-4.0.0\n",
            "\u001b[1mcollecting ... \u001b[0mcollected 1 item\n",
            "\n",
            "test_datastats.py::test_json \u001b[32mPASSED\u001b[0m\u001b[32m                                      [100%]\u001b[0m\n",
            "\n",
            "\u001b[32m============================== \u001b[32m\u001b[1m1 passed\u001b[0m\u001b[32m in 0.04s\u001b[0m\u001b[32m ==============================\u001b[0m\n"
          ]
        }
      ],
      "source": [
        "! pytest -v test_datastats.py"
      ]
    },
    {
      "cell_type": "code",
      "execution_count": null,
      "metadata": {},
      "outputs": [],
      "source": []
    },
    {
      "attachments": {},
      "cell_type": "markdown",
      "metadata": {
        "id": "Qfs4812djJGR"
      },
      "source": [
        "#### 2  Deshacerse del formato JSON\n",
        "\n",
        "\n",
        "El método devuelve su salida en formato JSON, y mirando la clase es bastante evidente que la conversión la realiza  `json.dumps()`.\n",
        "\n",
        "La estructura del código es la siguiente."
      ]
    },
    {
      "cell_type": "code",
      "execution_count": null,
      "metadata": {
        "id": "2r0tUah-fAj_"
      },
      "outputs": [],
      "source": [
        "class DataStats:\n",
        "  def stats(self, data, iedad, isalario):\n",
        "    [code_parte_1]\n",
        "\n",
        "    return json.dumps({\n",
        "        [code_parte_2]\n",
        "        })"
      ]
    },
    {
      "attachments": {},
      "cell_type": "markdown",
      "metadata": {
        "id": "1xHL7fyEj74w"
      },
      "source": [
        "Donde obviamente `code_parte_2` depende de `code_parte_1`. La primera refactorización entonces sigue el siguiente procedimiento\n",
        "\n",
        "1. Escribimos una prueba llamada `test__stats()` para un método `_stats()` que se supone que devolverá los datos como una estructura de Python. Podemos inferir esto último manualmente desde JSON o ejecutando `json.loads()` desde un shell de Python. La prueba falla.\n",
        "\n",
        "2. Duplicamos el código del método `stats()` que produce los datos, colocándolo en el nuevo método `_stats()`. La prueba  debe pasar."
      ]
    },
    {
      "attachments": {},
      "cell_type": "markdown",
      "metadata": {
        "id": "_XkhfEx1mK9o"
      },
      "source": [
        "3. Eliminamos el código duplicado en `stats()` reemplazándolo con una llamada a `_stats()`.\n"
      ]
    },
    {
      "attachments": {},
      "cell_type": "markdown",
      "metadata": {
        "id": "EBIyJdQHnEvx"
      },
      "source": [
        "Ahora el código de la clase se ve así:\n"
      ]
    },
    {
      "cell_type": "code",
      "execution_count": 9,
      "metadata": {
        "colab": {
          "base_uri": "https://localhost:8080/"
        },
        "id": "KBtVpZ35mm6C",
        "outputId": "ab428c6f-9593-4d29-afcb-ce938e07b153"
      },
      "outputs": [
        {
          "name": "stdout",
          "output_type": "stream",
          "text": [
            "Overwriting datastats.py\n"
          ]
        }
      ],
      "source": [
        "%%writefile datastats.py \n",
        "import math\n",
        "import json\n",
        "\n",
        "class DataStats:\n",
        "  \n",
        "  def _stats(self, data, iedad, isalario):\n",
        "    \n",
        "    incremento_edad_promedio = math.floor(\n",
        "            sum([e['edad'] for e in data])/len(data)) - iedad\n",
        "    incremento_salario_promedio= math.floor(\n",
        "            sum([int(e['salario'][1:]) for e in data])/len(data)) - isalario\n",
        "\n",
        "    incremento_anual_promedio = math.floor(\n",
        "            incremento_salario_promedio/incremento_edad_promedio)\n",
        "\n",
        "    salarios = [int(e['salario'][1:]) for e in data]\n",
        "    limite= '$' + str(max(salarios))\n",
        "\n",
        "    max_salario = [e for e in data if e['salario'] == limite]\n",
        "\n",
        "    salarios = [int(d['salario'][1:]) for d in data]\n",
        "    min_salario = [e for e in data if e['salario'] ==\n",
        "                      '${}'.format(str(min(salarios)))]\n",
        "\n",
        "    return {\n",
        "            'edad_promedio': math.floor(sum([e['edad'] for e in data])/len(data)),\n",
        "            'salario_promedio': math.floor(sum(\n",
        "                [int(e['salario'][1:]) for e in data])/len(data)),\n",
        "            'incremento_anual_promedio': incremento_anual_promedio,\n",
        "            'max_salario': max_salario,\n",
        "            'min_salario': min_salario\n",
        "        }\n",
        "\n",
        "  def stats(self, data, iedad, isalario):\n",
        "    return json.dumps(\n",
        "      self._stats(data, iedad, isalario)\n",
        "  )"
      ]
    },
    {
      "attachments": {},
      "cell_type": "markdown",
      "metadata": {
        "id": "j6RXt0wtosR4"
      },
      "source": [
        "Y tenemos dos pruebas que comprueban la corrección de la misma.\n"
      ]
    },
    {
      "cell_type": "code",
      "execution_count": 10,
      "metadata": {
        "colab": {
          "base_uri": "https://localhost:8080/"
        },
        "id": "iECHpaqXw5A8",
        "outputId": "cdffbe45-bc38-4912-ff1a-7078ab382d13"
      },
      "outputs": [
        {
          "name": "stdout",
          "output_type": "stream",
          "text": [
            "Overwriting test_datastats.py\n"
          ]
        }
      ],
      "source": [
        "%%writefile test_datastats.py\n",
        "\n",
        "import json\n",
        "\n",
        "from datastats import DataStats\n",
        "\n",
        "\n",
        "def test_json():\n",
        "    test_data = [\n",
        "        {\n",
        "          \"id\": 1,\n",
        "          \"nombre\": \"Irene\",\n",
        "          \"apodo\": \"Lara\",\n",
        "          \"edad\": 68,\n",
        "          \"salario\": \"$27888\" \n",
        "        },\n",
        "       \n",
        "       {\n",
        "           \"id\": 2,\n",
        "          \"nombre\": \"Claudio\",\n",
        "          \"apodo\": \"Avila\",\n",
        "          \"edad\": 49,\n",
        "          \"salario\": \"$67137\"\n",
        "      },\n",
        "      {\n",
        "          \"id\": 3,\n",
        "          \"nombre\": \"Tomo\",\n",
        "          \"apodo\": \"Frugs\",\n",
        "          \"edad\": 70,\n",
        "          \"salario\": \"$70472\"\n",
        "      }\n",
        "    ]\n",
        "\n",
        "    ds = DataStats()\n",
        "\n",
        "    assert ds.stats(test_data, 20, 20000) == json.dumps(\n",
        "        {\n",
        "            \"edad_promedio\": 62,\n",
        "            \"salario_promedio\": 55165,\n",
        "            \"incremento_anual_promedio\": 837,\n",
        "            \"max_salario\": [{\n",
        "                 \"id\": 3,\n",
        "                  \"nombre\": \"Tomo\",\n",
        "                  \"apodo\": \"Frugs\",\n",
        "                  \"edad\": 70,\n",
        "                  \"salario\": \"$70472\"\n",
        "           }],\n",
        "          \"min_salario\": [{\n",
        "              \"id\": 1,\n",
        "              \"nombre\": \"Irene\",\n",
        "              \"apodo\": \"Lara\",\n",
        "              \"edad\": 68,\n",
        "              \"salario\": \"$27888\"\n",
        "            }]\n",
        "       }\n",
        "    )\n",
        "        \n",
        "\n",
        "def test__stats():\n",
        "    test_data = [\n",
        "        {\n",
        "        \"id\": 1,\n",
        "        \"nombre\": \"Irene\",\n",
        "        \"apodo\": \"Lara\",\n",
        "        \"edad\": 68,\n",
        "        \"salario\": \"$27888\"\n",
        "    },\n",
        "    {\n",
        "        \"id\": 2,\n",
        "        \"nombre\": \"Claudio\",\n",
        "        \"apodo\": \"Avila\",\n",
        "        \"edad\": 49,\n",
        "        \"salario\": \"$67137\"\n",
        "    },\n",
        "    {\n",
        "        \"id\": 3,\n",
        "        \"nombre\": \"Tomo\",\n",
        "        \"apodo\": \"Frugs\",\n",
        "        \"edad\": 70,\n",
        "        \"salario\": \"$70472\"\n",
        "    }\n",
        "        \n",
        "    ]\n",
        "\n",
        "    ds = DataStats()\n",
        "\n",
        "    assert ds._stats(test_data, 20, 20000) == {\n",
        "        \"edad_promedio\": 62,\n",
        "        \"salario_promedio\": 55165,\n",
        "        \"incremento_anual_promedio\": 837,\n",
        "        \"max_salario\": [{\n",
        "            \"id\": 3,\n",
        "            \"nombre\": \"Tomo\",\n",
        "            \"apodo\": \"Frugs\",\n",
        "             \"edad\": 70,\n",
        "              \"salario\": \"$70472\"\n",
        "    }],\n",
        "    \"min_salario\": [{\n",
        "        \"id\": 1,\n",
        "        \"nombre\": \"Irene\",\n",
        "        \"apodo\": \"Lara\",\n",
        "        \"edad\": 68,\n",
        "        \"salario\": \"$27888\"\n",
        "        \n",
        "        }]\n",
        "    }"
      ]
    },
    {
      "cell_type": "code",
      "execution_count": 11,
      "metadata": {
        "colab": {
          "base_uri": "https://localhost:8080/"
        },
        "id": "6zcqdDKdquyS",
        "outputId": "9b1b8c5e-d40c-4363-d9f7-07ef68b9cb1b"
      },
      "outputs": [
        {
          "name": "stdout",
          "output_type": "stream",
          "text": [
            "\u001b[1m============================= test session starts =============================\u001b[0m\n",
            "platform win32 -- Python 3.11.1, pytest-7.3.1, pluggy-1.0.0\n",
            "rootdir: c:\\Users\\Ademar\\OneDrive\\Desktop\\CC-3S2\\Actividades\n",
            "plugins: cov-4.0.0\n",
            "collected 2 items\n",
            "\n",
            "test_datastats.py \u001b[32m.\u001b[0m\u001b[32m.\u001b[0m\u001b[32m                                                     [100%]\u001b[0m\n",
            "\n",
            "\u001b[32m============================== \u001b[32m\u001b[1m2 passed\u001b[0m\u001b[32m in 0.05s\u001b[0m\u001b[32m ==============================\u001b[0m\n"
          ]
        }
      ],
      "source": [
        "! pytest test_datastats.py"
      ]
    },
    {
      "attachments": {},
      "cell_type": "markdown",
      "metadata": {
        "id": "2OrDQVVA2arg"
      },
      "source": [
        "#### 3 Refactorización de las pruebas\n",
        "\n",
        "\n",
        "Está bastante claro que la lista de diccionarios `test_data` se usará en cada prueba que realicemos, por lo que ya es hora de que la traslademos a una variable global. \n",
        "También podríamos mover los datos de salida a una variable global.\n",
        "\n",
        "El conjunto de pruebas ahora parece:"
      ]
    },
    {
      "cell_type": "code",
      "execution_count": 1,
      "metadata": {
        "colab": {
          "base_uri": "https://localhost:8080/"
        },
        "id": "siN4fTHcqw5f",
        "outputId": "6f6dafc5-b8b6-4578-d41a-44b562fc3840"
      },
      "outputs": [
        {
          "name": "stdout",
          "output_type": "stream",
          "text": [
            "Overwriting test_datastats.py\n"
          ]
        }
      ],
      "source": [
        "%%writefile test_datastats.py\n",
        "\n",
        "import json\n",
        "\n",
        "from datastats import DataStats\n",
        "\n",
        "\n",
        "test_data = [\n",
        "        {\n",
        "          \"id\": 1,\n",
        "          \"nombre\": \"Irene\",\n",
        "          \"apodo\": \"Lara\",\n",
        "          \"edad\": 68,\n",
        "          \"salario\": \"$27888\" \n",
        "        },\n",
        "       \n",
        "       {\n",
        "           \"id\": 2,\n",
        "          \"nombre\": \"Claudio\",\n",
        "          \"apodo\": \"Avila\",\n",
        "          \"edad\": 49,\n",
        "          \"salario\": \"$67137\"\n",
        "      },\n",
        "      {\n",
        "          \"id\": 3,\n",
        "          \"nombre\": \"Tomo\",\n",
        "          \"apodo\": \"Frugs\",\n",
        "          \"edad\": 70,\n",
        "          \"salario\": \"$70472\"\n",
        "      }\n",
        "    ]\n",
        "\n",
        "def test_json():\n",
        "  \n",
        "  ds = DataStats()\n",
        "\n",
        "  assert ds.stats(test_data, 20, 20000) == json.dumps(\n",
        "        {\n",
        "            \"edad_promedio\": 62,\n",
        "            \"salario_promedio\": 55165,\n",
        "            \"incremento_anual_promedio\": 837,\n",
        "            \"max_salario\": [{\n",
        "                 \"id\": 3,\n",
        "                  \"nombre\": \"Tomo\",\n",
        "                  \"apodo\": \"Frugs\",\n",
        "                  \"edad\": 70,\n",
        "                  \"salario\": \"$70472\"\n",
        "           }],\n",
        "          \"min_salario\": [{\n",
        "              \"id\": 1,\n",
        "              \"nombre\": \"Irene\",\n",
        "              \"apodo\": \"Lara\",\n",
        "              \"edad\": 68,\n",
        "              \"salario\": \"$27888\"\n",
        "            }]\n",
        "       }\n",
        "    )\n",
        "        \n",
        "\n",
        "def test__stats():\n",
        "\n",
        "   ds = DataStats()\n",
        "   \n",
        "   assert ds._stats(test_data, 20, 20000) == {\n",
        "        \"edad_promedio\": 62,\n",
        "        \"salario_promedio\": 55165,\n",
        "        \"incremento_anual_promedio\": 837,\n",
        "        \"max_salario\": [{\n",
        "            \"id\": 3,\n",
        "            \"nombre\": \"Tomo\",\n",
        "            \"apodo\": \"Frugs\",\n",
        "             \"edad\": 70,\n",
        "              \"salario\": \"$70472\"\n",
        "    }],\n",
        "    \"min_salario\": [{\n",
        "        \"id\": 1,\n",
        "        \"nombre\": \"Irene\",\n",
        "        \"apodo\": \"Lara\",\n",
        "        \"edad\": 68,\n",
        "        \"salario\": \"$27888\"\n",
        "        \n",
        "        }]\n",
        "    }"
      ]
    },
    {
      "cell_type": "code",
      "execution_count": 2,
      "metadata": {
        "colab": {
          "base_uri": "https://localhost:8080/"
        },
        "id": "Zx0-y_Rn9Mu3",
        "outputId": "e9442f90-189f-4f1f-f053-888d3fa69cef"
      },
      "outputs": [
        {
          "name": "stdout",
          "output_type": "stream",
          "text": [
            "\u001b[1m============================= test session starts =============================\u001b[0m\n",
            "platform win32 -- Python 3.11.1, pytest-7.3.1, pluggy-1.0.0\n",
            "rootdir: c:\\Users\\Ademar\\OneDrive\\Desktop\\CC-3S2\\Actividades\\Caso-Refact-Py\n",
            "plugins: cov-4.0.0\n",
            "collected 2 items\n",
            "\n",
            "test_datastats.py \u001b[32m.\u001b[0m\u001b[32m.\u001b[0m\u001b[32m                                                     [100%]\u001b[0m\n",
            "\n",
            "\u001b[32m============================== \u001b[32m\u001b[1m2 passed\u001b[0m\u001b[32m in 0.04s\u001b[0m\u001b[32m ==============================\u001b[0m\n"
          ]
        }
      ],
      "source": [
        "! pytest test_datastats.py"
      ]
    },
    {
      "attachments": {},
      "cell_type": "markdown",
      "metadata": {
        "id": "Cl8PErtN9pt9"
      },
      "source": [
        "#### 4 Aislamiento del algoritmo de edad promedio\n",
        "\n",
        "Aislar características independientes es un objetivo clave del diseño de software. Por lo tanto, la refactorización tendrá como objetivo desentrañar el código dividiéndolo en pequeñas funciones separadas.\n",
        "\n",
        "\n",
        "Para aislar algún código, lo primero que debe hacer es duplicarlo, colocándolo en un método dedicado. Como estamos refactorizando con pruebas, lo primero es escribir una prueba para este método.\n"
      ]
    },
    {
      "cell_type": "code",
      "execution_count": 3,
      "metadata": {
        "colab": {
          "base_uri": "https://localhost:8080/"
        },
        "id": "hy9s7AZv97TC",
        "outputId": "a49df659-1133-4252-d751-ce37d05a1faf"
      },
      "outputs": [
        {
          "name": "stdout",
          "output_type": "stream",
          "text": [
            "Overwriting datastats.py\n"
          ]
        }
      ],
      "source": [
        "%%writefile datastats.py \n",
        "import math\n",
        "import json\n",
        "\n",
        "class DataStats:\n",
        "\n",
        "  def _edad_promedio(self, data):\n",
        "    return math.floor(sum([e['edad'] for e in data])/len(data))\n",
        "  \n",
        "  def _stats(self, data, iedad, isalario):\n",
        "    \n",
        "    incremento_edad_promedio = math.floor(\n",
        "            sum([e['edad'] for e in data])/len(data)) - iedad\n",
        "    incremento_salario_promedio= math.floor(\n",
        "            sum([int(e['salario'][1:]) for e in data])/len(data)) - isalario\n",
        "\n",
        "    incremento_anual_promedio = math.floor(\n",
        "            incremento_salario_promedio/incremento_edad_promedio)\n",
        "\n",
        "    salarios = [int(e['salario'][1:]) for e in data]\n",
        "    limite= '$' + str(max(salarios))\n",
        "\n",
        "    max_salario = [e for e in data if e['salario'] == limite]\n",
        "\n",
        "    salarios = [int(d['salario'][1:]) for d in data]\n",
        "    min_salario = [e for e in data if e['salario'] ==\n",
        "                      '${}'.format(str(min(salarios)))]\n",
        "\n",
        "    return {\n",
        "            'edad_promedio': self._edad_promedio(data),\n",
        "            'salario_promedio': math.floor(sum(\n",
        "                [int(e['salario'][1:]) for e in data])/len(data)),\n",
        "            'incremento_anual_promedio': incremento_anual_promedio,\n",
        "            'max_salario': max_salario,\n",
        "            'min_salario': min_salario\n",
        "        }\n",
        "\n",
        "  def stats(self, data, iedad, isalario):\n",
        "    return json.dumps(\n",
        "      self._stats(data, iedad, isalario)\n",
        "  )"
      ]
    },
    {
      "cell_type": "code",
      "execution_count": 4,
      "metadata": {
        "colab": {
          "base_uri": "https://localhost:8080/"
        },
        "id": "ZH0SIpa0_4rn",
        "outputId": "8bd4021c-d486-4c53-f686-fc2f55ca7e7c"
      },
      "outputs": [
        {
          "name": "stdout",
          "output_type": "stream",
          "text": [
            "Overwriting test_datastats.py\n"
          ]
        }
      ],
      "source": [
        "%%writefile test_datastats.py\n",
        "\n",
        "import json\n",
        "\n",
        "from datastats import DataStats\n",
        "\n",
        "\n",
        "test_data = [\n",
        "        {\n",
        "          \"id\": 1,\n",
        "          \"nombre\": \"Irene\",\n",
        "          \"apodo\": \"Lara\",\n",
        "          \"edad\": 68,\n",
        "          \"salario\": \"$27888\" \n",
        "        },\n",
        "       \n",
        "       {\n",
        "           \"id\": 2,\n",
        "          \"nombre\": \"Claudio\",\n",
        "          \"apodo\": \"Avila\",\n",
        "          \"edad\": 49,\n",
        "          \"salario\": \"$67137\"\n",
        "      },\n",
        "      {\n",
        "          \"id\": 3,\n",
        "          \"nombre\": \"Tomo\",\n",
        "          \"apodo\": \"Frugs\",\n",
        "          \"edad\": 70,\n",
        "          \"salario\": \"$70472\"\n",
        "      }\n",
        "    ]\n",
        "\n",
        "def test_json():\n",
        "  \n",
        "  ds = DataStats()\n",
        "\n",
        "  assert ds.stats(test_data, 20, 20000) == json.dumps(\n",
        "        {\n",
        "            \"edad_promedio\": 62,\n",
        "            \"salario_promedio\": 55165,\n",
        "            \"incremento_anual_promedio\": 837,\n",
        "            \"max_salario\": [{\n",
        "                 \"id\": 3,\n",
        "                  \"nombre\": \"Tomo\",\n",
        "                  \"apodo\": \"Frugs\",\n",
        "                  \"edad\": 70,\n",
        "                  \"salario\": \"$70472\"\n",
        "           }],\n",
        "          \"min_salario\": [{\n",
        "              \"id\": 1,\n",
        "              \"nombre\": \"Irene\",\n",
        "              \"apodo\": \"Lara\",\n",
        "              \"edad\": 68,\n",
        "              \"salario\": \"$27888\"\n",
        "            }]\n",
        "       }\n",
        "    )\n",
        "        \n",
        "\n",
        "def test__stats():\n",
        "\n",
        "   ds = DataStats()\n",
        "   \n",
        "   assert ds._stats(test_data, 20, 20000) == {\n",
        "        \"edad_promedio\": 62,\n",
        "        \"salario_promedio\": 55165,\n",
        "        \"incremento_anual_promedio\": 837,\n",
        "        \"max_salario\": [{\n",
        "            \"id\": 3,\n",
        "            \"nombre\": \"Tomo\",\n",
        "            \"apodo\": \"Frugs\",\n",
        "             \"edad\": 70,\n",
        "              \"salario\": \"$70472\"\n",
        "    }],\n",
        "    \"min_salario\": [{\n",
        "        \"id\": 1,\n",
        "        \"nombre\": \"Irene\",\n",
        "        \"apodo\": \"Lara\",\n",
        "        \"edad\": 68,\n",
        "        \"salario\": \"$27888\"\n",
        "        \n",
        "        }]\n",
        "    }\n",
        "\n",
        "def test__edad_promedio():\n",
        "  ds = DataStats()\n",
        "  \n",
        "  assert ds._edad_promedio(test_data) == 62"
      ]
    },
    {
      "cell_type": "code",
      "execution_count": 5,
      "metadata": {
        "colab": {
          "base_uri": "https://localhost:8080/"
        },
        "id": "hT42ulLpAqyE",
        "outputId": "2ac71902-0b83-47bd-ee05-7c56dfbb2218"
      },
      "outputs": [
        {
          "name": "stdout",
          "output_type": "stream",
          "text": [
            "\u001b[1m============================= test session starts =============================\u001b[0m\n",
            "platform win32 -- Python 3.11.1, pytest-7.3.1, pluggy-1.0.0\n",
            "rootdir: c:\\Users\\Ademar\\OneDrive\\Desktop\\CC-3S2\\Actividades\\Caso-Refact-Py\n",
            "plugins: cov-4.0.0\n",
            "collected 3 items\n",
            "\n",
            "test_datastats.py \u001b[32m.\u001b[0m\u001b[32m.\u001b[0m\u001b[32m.\u001b[0m\u001b[32m                                                    [100%]\u001b[0m\n",
            "\n",
            "\u001b[32m============================== \u001b[32m\u001b[1m3 passed\u001b[0m\u001b[32m in 0.05s\u001b[0m\u001b[32m ==============================\u001b[0m\n"
          ]
        }
      ],
      "source": [
        "! pytest test_datastats.py"
      ]
    },
    {
      "attachments": {},
      "cell_type": "markdown",
      "metadata": {
        "id": "dSaD8llWDI1k"
      },
      "source": [
        "#### 5 Aíslamiento el algoritmo de salario promedio\n"
      ]
    },
    {
      "cell_type": "code",
      "execution_count": 10,
      "metadata": {
        "colab": {
          "base_uri": "https://localhost:8080/"
        },
        "id": "pv2DFnw4DN5T",
        "outputId": "b9d2c44a-e6cf-4bab-a205-33b2e50fbda4"
      },
      "outputs": [
        {
          "name": "stdout",
          "output_type": "stream",
          "text": [
            "Overwriting datastats.py\n"
          ]
        }
      ],
      "source": [
        "%%writefile datastats.py \n",
        "import math\n",
        "import json\n",
        "\n",
        "class DataStats:\n",
        "  def _salario_promedio(self, data):\n",
        "    return math.floor(sum([int(e['salario'][1:]) for e in data])/len(data))\n",
        "\n",
        "  def _edad_promedio(self, data):\n",
        "    return math.floor(sum([e['edad'] for e in data])/len(data))\n",
        "  \n",
        "  def _stats(self, data, iedad, isalario):\n",
        "    \n",
        "    incremento_edad_promedio = math.floor(\n",
        "            sum([e['edad'] for e in data])/len(data)) - iedad\n",
        "    incremento_salario_promedio= math.floor(\n",
        "            sum([int(e['salario'][1:]) for e in data])/len(data)) - isalario\n",
        "\n",
        "    incremento_anual_promedio = math.floor(\n",
        "            incremento_salario_promedio/incremento_edad_promedio)\n",
        "\n",
        "    salarios = [int(e['salario'][1:]) for e in data]\n",
        "    limite= '$' + str(max(salarios))\n",
        "\n",
        "    max_salario = [e for e in data if e['salario'] == limite]\n",
        "\n",
        "    salarios = [int(d['salario'][1:]) for d in data]\n",
        "    min_salario = [e for e in data if e['salario'] ==\n",
        "                      '${}'.format(str(min(salarios)))]\n",
        "\n",
        "    return {\n",
        "            'edad_promedio': self._edad_promedio(data),\n",
        "            'salario_promedio': self._salario_promedio(data),\n",
        "            'incremento_anual_promedio': incremento_anual_promedio,\n",
        "            'max_salario': max_salario,\n",
        "            'min_salario': min_salario\n",
        "        }\n",
        "\n",
        "  def stats(self, data, iedad, isalario):\n",
        "    return json.dumps(\n",
        "      self._stats(data, iedad, isalario)\n",
        "  )"
      ]
    },
    {
      "cell_type": "code",
      "execution_count": 11,
      "metadata": {
        "colab": {
          "base_uri": "https://localhost:8080/"
        },
        "id": "OyxKzZs7IUiX",
        "outputId": "19b8da63-91b5-41bc-8156-aa1bc108d04e"
      },
      "outputs": [
        {
          "name": "stdout",
          "output_type": "stream",
          "text": [
            "Overwriting test_datastats.py\n"
          ]
        }
      ],
      "source": [
        "%%writefile test_datastats.py\n",
        "\n",
        "import json\n",
        "\n",
        "from datastats import DataStats\n",
        "\n",
        "\n",
        "test_data = [\n",
        "        {\n",
        "          \"id\": 1,\n",
        "          \"nombre\": \"Irene\",\n",
        "          \"apodo\": \"Lara\",\n",
        "          \"edad\": 68,\n",
        "          \"salario\": \"$27888\" \n",
        "        },\n",
        "       \n",
        "       {\n",
        "           \"id\": 2,\n",
        "          \"nombre\": \"Claudio\",\n",
        "          \"apodo\": \"Avila\",\n",
        "          \"edad\": 49,\n",
        "          \"salario\": \"$67137\"\n",
        "      },\n",
        "      {\n",
        "          \"id\": 3,\n",
        "          \"nombre\": \"Tomo\",\n",
        "          \"apodo\": \"Frugs\",\n",
        "          \"edad\": 70,\n",
        "          \"salario\": \"$70472\"\n",
        "      }\n",
        "    ]\n",
        "\n",
        "def test_json():\n",
        "  \n",
        "  ds = DataStats()\n",
        "\n",
        "  assert ds.stats(test_data, 20, 20000) == json.dumps(\n",
        "        {\n",
        "            \"edad_promedio\": 62,\n",
        "            \"salario_promedio\": 55165,\n",
        "            \"incremento_anual_promedio\": 837,\n",
        "            \"max_salario\": [{\n",
        "                 \"id\": 3,\n",
        "                  \"nombre\": \"Tomo\",\n",
        "                  \"apodo\": \"Frugs\",\n",
        "                  \"edad\": 70,\n",
        "                  \"salario\": \"$70472\"\n",
        "           }],\n",
        "          \"min_salario\": [{\n",
        "              \"id\": 1,\n",
        "              \"nombre\": \"Irene\",\n",
        "              \"apodo\": \"Lara\",\n",
        "              \"edad\": 68,\n",
        "              \"salario\": \"$27888\"\n",
        "            }]\n",
        "       }\n",
        "    )\n",
        "        \n",
        "\n",
        "def test__stats():\n",
        "\n",
        "   ds = DataStats()\n",
        "   \n",
        "   assert ds._stats(test_data, 20, 20000) == {\n",
        "        \"edad_promedio\": 62,\n",
        "        \"salario_promedio\": 55165,\n",
        "        \"incremento_anual_promedio\": 837,\n",
        "        \"max_salario\": [{\n",
        "            \"id\": 3,\n",
        "            \"nombre\": \"Tomo\",\n",
        "            \"apodo\": \"Frugs\",\n",
        "             \"edad\": 70,\n",
        "              \"salario\": \"$70472\"\n",
        "    }],\n",
        "    \"min_salario\": [{\n",
        "        \"id\": 1,\n",
        "        \"nombre\": \"Irene\",\n",
        "        \"apodo\": \"Lara\",\n",
        "        \"edad\": 68,\n",
        "        \"salario\": \"$27888\"\n",
        "        \n",
        "        }]\n",
        "    }\n",
        "\n",
        "def test__edad_promedio():\n",
        "  ds = DataStats()\n",
        "  \n",
        "  assert ds._edad_promedio(test_data) == 62\n",
        "\n",
        "def test__salario_promedio():\n",
        "  ds = DataStats()\n",
        "  assert ds._salario_promedio(test_data) == 55165"
      ]
    },
    {
      "cell_type": "code",
      "execution_count": 12,
      "metadata": {
        "colab": {
          "base_uri": "https://localhost:8080/"
        },
        "id": "5CZfMBdbI554",
        "outputId": "acce74fb-89a5-4db4-e979-ce0c52ce23f4"
      },
      "outputs": [
        {
          "name": "stdout",
          "output_type": "stream",
          "text": [
            "\u001b[1m============================= test session starts =============================\u001b[0m\n",
            "platform win32 -- Python 3.11.1, pytest-7.3.1, pluggy-1.0.0\n",
            "rootdir: c:\\Users\\Ademar\\OneDrive\\Desktop\\CC-3S2\\Actividades\\Caso-Refact-Py\n",
            "plugins: cov-4.0.0\n",
            "collected 4 items\n",
            "\n",
            "test_datastats.py \u001b[32m.\u001b[0m\u001b[32m.\u001b[0m\u001b[32m.\u001b[0m\u001b[32m.\u001b[0m\u001b[32m                                                   [100%]\u001b[0m\n",
            "\n",
            "\u001b[32m============================== \u001b[32m\u001b[1m4 passed\u001b[0m\u001b[32m in 0.04s\u001b[0m\u001b[32m ==============================\u001b[0m\n"
          ]
        }
      ],
      "source": [
        "! pytest test_datastats.py"
      ]
    },
    {
      "attachments": {},
      "cell_type": "markdown",
      "metadata": {
        "id": "vLnHczEmJDuA"
      },
      "source": [
        "#### 6 Aislamiento del algoritmo de aumento anual promedio\n",
        "\n",
        "Para el incremento promedio anual del salario tenemos una nueva prueba:"
      ]
    },
    {
      "cell_type": "code",
      "execution_count": null,
      "metadata": {
        "id": "XvVdcLnAJby4"
      },
      "outputs": [],
      "source": [
        "#def test__incremento_anual_promedio():\n",
        "#  ds = DataStats()\n",
        "#  assert ds._incremento_anual_promedio(test_data, 20, 20000) == 837"
      ]
    },
    {
      "attachments": {},
      "cell_type": "markdown",
      "metadata": {
        "id": "_F7sCrXdJnso"
      },
      "source": [
        "Un nuevo método que pasa la prueba:"
      ]
    },
    {
      "cell_type": "code",
      "execution_count": null,
      "metadata": {
        "id": "1KWbktesJjtI"
      },
      "outputs": [],
      "source": [
        "#def _incremento_anual_promedio(self, data, iedad, isalario):\n",
        "#  incremento_anual_promedio = math.floor(\n",
        "#            sum([e['edad'] for e in data])/len(data)) - iedad\n",
        "#  incremento_salario_promedio = math.floor(\n",
        "#            sum([int(e['salario'][1:]) for e in data])/len(data)) - isalario\n",
        "\n",
        "#  return math.floor(incremento_salario_promedio/incremento_edad_promedio)"
      ]
    },
    {
      "attachments": {},
      "cell_type": "markdown",
      "metadata": {
        "id": "9nW7r2P0KChB"
      },
      "source": [
        "Y una nueva versión del método `_stats()`:"
      ]
    },
    {
      "cell_type": "code",
      "execution_count": null,
      "metadata": {
        "id": "zU8LmKApKFjw"
      },
      "outputs": [],
      "source": [
        "#def _stats(self, data, iedad, isalario):\n",
        "#  salarios = [int(e['salario'][1:]) for e in data]\n",
        "#  limite= '$' + str(max(salarios))\n",
        "#\n",
        "#  max_salario = [e for e in data if e['salario'] == limite]\n",
        "#\n",
        "#  salarios = [int(d['salario'][1:]) for d in data]\n",
        "#  min_salario = [e for e in data if e['salario'] ==\n",
        "#                      '${}'.format(str(min(salarios)))]\n",
        "#\n",
        "#  return {\n",
        "#        'edad_promedio': self._avg_age(data),\n",
        "#        'salario_promedio':  self._salario_promedio(data),\n",
        "#        'incremento_anual_promedio': self._incremento_anual_promedio (\n",
        "#                data, iedad, isalario),\n",
        "#        'max_salario': max_salario,\n",
        "#        'min_salario': min_salario\n",
        "#        }"
      ]
    },
    {
      "attachments": {},
      "cell_type": "markdown",
      "metadata": {
        "id": "LRlCT6uiKgU0"
      },
      "source": [
        "Con todo esto tenemos:"
      ]
    },
    {
      "cell_type": "code",
      "execution_count": 13,
      "metadata": {
        "colab": {
          "base_uri": "https://localhost:8080/"
        },
        "id": "h_q67G8pK5hA",
        "outputId": "cc470324-da81-4b85-f607-350eb91b0a52"
      },
      "outputs": [
        {
          "name": "stdout",
          "output_type": "stream",
          "text": [
            "Overwriting datastats.py\n"
          ]
        }
      ],
      "source": [
        "%%writefile datastats.py \n",
        "import math\n",
        "import json\n",
        "\n",
        "class DataStats:\n",
        "  \n",
        "  def _salario_promedio(self, data):\n",
        "    return math.floor(sum([int(e['salario'][1:]) for e in data])/len(data))\n",
        "\n",
        "  def _edad_promedio(self, data):\n",
        "    return math.floor(sum([e['edad'] for e in data])/len(data))\n",
        "\n",
        "  def _incremento_anual_promedio(self, data, iedad, isalario):\n",
        "    \n",
        "    incremento_edad_promedio = math.floor(\n",
        "            sum([e['edad'] for e in data])/len(data)) - iedad\n",
        "    incremento_salario_promedio = math.floor(\n",
        "            sum([int(e['salario'][1:]) for e in data])/len(data)) - isalario\n",
        "\n",
        "    return math.floor(incremento_salario_promedio/incremento_edad_promedio)\n",
        "  \n",
        "  def _stats(self, data, iedad, isalario):\n",
        "    salarios = [int(e['salario'][1:]) for e in data]\n",
        "    limite= '$' + str(max(salarios))\n",
        "\n",
        "    max_salario = [e for e in data if e['salario'] == limite]\n",
        "\n",
        "    salarios = [int(d['salario'][1:]) for d in data]\n",
        "    min_salario = [e for e in data if e['salario'] ==\n",
        "                      '${}'.format(str(min(salarios)))]\n",
        "\n",
        "    return {\n",
        "            'edad_promedio': self._edad_promedio(data),\n",
        "            'salario_promedio': self._salario_promedio(data),\n",
        "            'incremento_anual_promedio': self._incremento_anual_promedio(\n",
        "                data, iedad, isalario),\n",
        "            'max_salario': max_salario,\n",
        "            'min_salario': min_salario\n",
        "        }\n",
        "\n",
        "  def stats(self, data, iedad, isalario):\n",
        "    return json.dumps(\n",
        "      self._stats(data, iedad, isalario)\n",
        "  )"
      ]
    },
    {
      "cell_type": "code",
      "execution_count": 14,
      "metadata": {
        "colab": {
          "base_uri": "https://localhost:8080/"
        },
        "id": "S-Sp_wD7NkWF",
        "outputId": "0913904c-5990-4bf7-9541-5803a045d4b2"
      },
      "outputs": [
        {
          "name": "stdout",
          "output_type": "stream",
          "text": [
            "Overwriting test_datastats.py\n"
          ]
        }
      ],
      "source": [
        "%%writefile test_datastats.py\n",
        "\n",
        "import json\n",
        "\n",
        "from datastats import DataStats\n",
        "\n",
        "\n",
        "test_data = [\n",
        "        {\n",
        "          \"id\": 1,\n",
        "          \"nombre\": \"Irene\",\n",
        "          \"apodo\": \"Lara\",\n",
        "          \"edad\": 68,\n",
        "          \"salario\": \"$27888\" \n",
        "        },\n",
        "       \n",
        "       {\n",
        "           \"id\": 2,\n",
        "          \"nombre\": \"Claudio\",\n",
        "          \"apodo\": \"Avila\",\n",
        "          \"edad\": 49,\n",
        "          \"salario\": \"$67137\"\n",
        "      },\n",
        "      {\n",
        "          \"id\": 3,\n",
        "          \"nombre\": \"Tomo\",\n",
        "          \"apodo\": \"Frugs\",\n",
        "          \"edad\": 70,\n",
        "          \"salario\": \"$70472\"\n",
        "      }\n",
        "    ]\n",
        "\n",
        "def test_json():\n",
        "  \n",
        "  ds = DataStats()\n",
        "\n",
        "  assert ds.stats(test_data, 20, 20000) == json.dumps(\n",
        "        {\n",
        "            \"edad_promedio\": 62,\n",
        "            \"salario_promedio\": 55165,\n",
        "            \"incremento_anual_promedio\": 837,\n",
        "            \"max_salario\": [{\n",
        "                 \"id\": 3,\n",
        "                  \"nombre\": \"Tomo\",\n",
        "                  \"apodo\": \"Frugs\",\n",
        "                  \"edad\": 70,\n",
        "                  \"salario\": \"$70472\"\n",
        "           }],\n",
        "          \"min_salario\": [{\n",
        "              \"id\": 1,\n",
        "              \"nombre\": \"Irene\",\n",
        "              \"apodo\": \"Lara\",\n",
        "              \"edad\": 68,\n",
        "              \"salario\": \"$27888\"\n",
        "            }]\n",
        "       }\n",
        "    )\n",
        "        \n",
        "\n",
        "def test__stats():\n",
        "\n",
        "   ds = DataStats()\n",
        "   \n",
        "   assert ds._stats(test_data, 20, 20000) == {\n",
        "        \"edad_promedio\": 62,\n",
        "        \"salario_promedio\": 55165,\n",
        "        \"incremento_anual_promedio\": 837,\n",
        "        \"max_salario\": [{\n",
        "            \"id\": 3,\n",
        "            \"nombre\": \"Tomo\",\n",
        "            \"apodo\": \"Frugs\",\n",
        "             \"edad\": 70,\n",
        "              \"salario\": \"$70472\"\n",
        "    }],\n",
        "    \"min_salario\": [{\n",
        "        \"id\": 1,\n",
        "        \"nombre\": \"Irene\",\n",
        "        \"apodo\": \"Lara\",\n",
        "        \"edad\": 68,\n",
        "        \"salario\": \"$27888\"\n",
        "        \n",
        "        }]\n",
        "    }\n",
        "\n",
        "def test__edad_promedio():\n",
        "  ds = DataStats()\n",
        "  \n",
        "  assert ds._edad_promedio(test_data) == 62\n",
        "\n",
        "def test__salario_promedio():\n",
        "  ds = DataStats()\n",
        "  assert ds._salario_promedio(test_data) == 55165\n",
        "\n",
        "def test__incremento_anual_promedio():\n",
        "  ds = DataStats()\n",
        "\n",
        "  assert ds._incremento_anual_promedio(test_data, 20, 20000) == 837\n"
      ]
    },
    {
      "cell_type": "code",
      "execution_count": 15,
      "metadata": {
        "colab": {
          "base_uri": "https://localhost:8080/"
        },
        "id": "rp1qMEa0Oe2k",
        "outputId": "c9967ddb-5f25-4007-ee3f-08b873d92635"
      },
      "outputs": [
        {
          "name": "stdout",
          "output_type": "stream",
          "text": [
            "\u001b[1m============================= test session starts =============================\u001b[0m\n",
            "platform win32 -- Python 3.11.1, pytest-7.3.1, pluggy-1.0.0\n",
            "rootdir: c:\\Users\\Ademar\\OneDrive\\Desktop\\CC-3S2\\Actividades\\Caso-Refact-Py\n",
            "plugins: cov-4.0.0\n",
            "collected 5 items\n",
            "\n",
            "test_datastats.py \u001b[32m.\u001b[0m\u001b[32m.\u001b[0m\u001b[32m.\u001b[0m\u001b[32m.\u001b[0m\u001b[32m.\u001b[0m\u001b[32m                                                  [100%]\u001b[0m\n",
            "\n",
            "\u001b[32m============================== \u001b[32m\u001b[1m5 passed\u001b[0m\u001b[32m in 0.05s\u001b[0m\u001b[32m ==============================\u001b[0m\n"
          ]
        }
      ],
      "source": [
        "! pytest test_datastats.py"
      ]
    },
    {
      "attachments": {},
      "cell_type": "markdown",
      "metadata": {
        "id": "AgkVijO_Oqct"
      },
      "source": [
        "### 7 - Aislamiento los algoritmos de salario máximo y mínimo\n",
        "\n",
        "\n",
        "Para este caso identificamos las nuevas pruebas."
      ]
    },
    {
      "cell_type": "code",
      "execution_count": 16,
      "metadata": {
        "colab": {
          "base_uri": "https://localhost:8080/"
        },
        "id": "UC9TlvVOPgng",
        "outputId": "be271c14-e321-4dd6-a702-3fa8a5943286"
      },
      "outputs": [
        {
          "name": "stdout",
          "output_type": "stream",
          "text": [
            "Overwriting datastats.py\n"
          ]
        }
      ],
      "source": [
        "%%writefile datastats.py \n",
        "import math\n",
        "import json\n",
        "\n",
        "class DataStats:\n",
        "  \n",
        "  def _salario_promedio(self, data):\n",
        "    return math.floor(sum([int(e['salario'][1:]) for e in data])/len(data))\n",
        "\n",
        "  def _edad_promedio(self, data):\n",
        "    return math.floor(sum([e['edad'] for e in data])/len(data))\n",
        "\n",
        "  def _incremento_anual_promedio(self, data, iedad, isalario):\n",
        "    \n",
        "    incremento_edad_promedio = math.floor(\n",
        "            sum([e['edad'] for e in data])/len(data)) - iedad\n",
        "    incremento_salario_promedio = math.floor(\n",
        "            sum([int(e['salario'][1:]) for e in data])/len(data)) - isalario\n",
        "\n",
        "    return math.floor(incremento_salario_promedio/incremento_edad_promedio)\n",
        "  \n",
        "  def _max_salario(self, data):\n",
        "    salarios = [int(e['salario'][1:]) for e in data]\n",
        "    limite = '$' + str(max(salarios))\n",
        "\n",
        "    return [e for e in data if e['salario'] == limite]\n",
        "\n",
        "  def _min_salario(self, data):\n",
        "    salarios = [int(d['salario'][1:]) for d in data]\n",
        "    return [e for e in data if e['salario'] ==\n",
        "                '${}'.format(str(min(salarios)))]\n",
        "  \n",
        "  \n",
        "  def _stats(self, data, iedad, isalario):\n",
        "    return {\n",
        "            'edad_promedio': self._edad_promedio(data),\n",
        "            'salario_promedio': self._salario_promedio(data),\n",
        "            'incremento_anual_promedio': self._incremento_anual_promedio(\n",
        "                data, iedad, isalario),\n",
        "            'max_salario': self._max_salario(data),\n",
        "            'min_salario': self._min_salario(data)\n",
        "        }\n",
        "\n",
        "  def stats(self, data, iedad, isalario):\n",
        "    return json.dumps(\n",
        "      self._stats(data, iedad, isalario)\n",
        "  )"
      ]
    },
    {
      "cell_type": "code",
      "execution_count": 17,
      "metadata": {
        "colab": {
          "base_uri": "https://localhost:8080/"
        },
        "id": "kafy66OhRm3w",
        "outputId": "41b68b85-3c0a-463f-8eee-5d4d3a180bc3"
      },
      "outputs": [
        {
          "name": "stdout",
          "output_type": "stream",
          "text": [
            "Overwriting test_datastats.py\n"
          ]
        }
      ],
      "source": [
        "%%writefile test_datastats.py\n",
        "\n",
        "import json\n",
        "\n",
        "from datastats import DataStats\n",
        "\n",
        "test_data = [\n",
        "        {\n",
        "          \"id\": 1,\n",
        "          \"nombre\": \"Irene\",\n",
        "          \"apodo\": \"Lara\",\n",
        "          \"edad\": 68,\n",
        "          \"salario\": \"$27888\" \n",
        "        },\n",
        "       \n",
        "       {\n",
        "           \"id\": 2,\n",
        "          \"nombre\": \"Claudio\",\n",
        "          \"apodo\": \"Avila\",\n",
        "          \"edad\": 49,\n",
        "          \"salario\": \"$67137\"\n",
        "      },\n",
        "      {\n",
        "          \"id\": 3,\n",
        "          \"nombre\": \"Tomo\",\n",
        "          \"apodo\": \"Frugs\",\n",
        "          \"edad\": 70,\n",
        "          \"salario\": \"$70472\"\n",
        "      }\n",
        "    ]\n",
        "\n",
        "def test_json():\n",
        "  \n",
        "  ds = DataStats()\n",
        "\n",
        "  assert ds.stats(test_data, 20, 20000) == json.dumps(\n",
        "        {\n",
        "            \"edad_promedio\": 62,\n",
        "            \"salario_promedio\": 55165,\n",
        "            \"incremento_anual_promedio\": 837,\n",
        "            \"max_salario\": [{\n",
        "                 \"id\": 3,\n",
        "                  \"nombre\": \"Tomo\",\n",
        "                  \"apodo\": \"Frugs\",\n",
        "                  \"edad\": 70,\n",
        "                  \"salario\": \"$70472\"\n",
        "           }],\n",
        "          \"min_salario\": [{\n",
        "              \"id\": 1,\n",
        "              \"nombre\": \"Irene\",\n",
        "              \"apodo\": \"Lara\",\n",
        "              \"edad\": 68,\n",
        "              \"salario\": \"$27888\"\n",
        "            }]\n",
        "       }\n",
        "    )\n",
        "        \n",
        "\n",
        "def test__stats():\n",
        "\n",
        "   ds = DataStats()\n",
        "   \n",
        "   assert ds._stats(test_data, 20, 20000) == {\n",
        "        \"edad_promedio\": 62,\n",
        "        \"salario_promedio\": 55165,\n",
        "        \"incremento_anual_promedio\": 837,\n",
        "        \"max_salario\": [{\n",
        "            \"id\": 3,\n",
        "            \"nombre\": \"Tomo\",\n",
        "            \"apodo\": \"Frugs\",\n",
        "             \"edad\": 70,\n",
        "              \"salario\": \"$70472\"\n",
        "    }],\n",
        "    \"min_salario\": [{\n",
        "        \"id\": 1,\n",
        "        \"nombre\": \"Irene\",\n",
        "        \"apodo\": \"Lara\",\n",
        "        \"edad\": 68,\n",
        "        \"salario\": \"$27888\"\n",
        "        \n",
        "        }]\n",
        "    }\n",
        "\n",
        "def test__edad_promedio():\n",
        "  ds = DataStats()\n",
        "  assert ds._edad_promedio(test_data) == 62\n",
        "\n",
        "def test__salario_promedio():\n",
        "  ds = DataStats()\n",
        "  assert ds._salario_promedio(test_data) == 55165\n",
        "\n",
        "def test__incremento_anual_promedio():\n",
        "  ds = DataStats()\n",
        "  assert ds._incremento_anual_promedio(test_data, 20, 20000) == 837\n",
        "\n",
        "\n",
        "def test__max_salario():  \n",
        "  ds = DataStats()\n",
        "  \n",
        "  assert ds._max_salario(test_data) == [{\n",
        "        \"id\": 3,\n",
        "          \"nombre\": \"Tomo\",\n",
        "          \"apodo\": \"Frugs\",\n",
        "          \"edad\": 70,\n",
        "          \"salario\": \"$70472\"\n",
        "    }]\n",
        "\n",
        "def test__min_salario():\n",
        "  ds = DataStats()\n",
        "  assert ds._min_salario(test_data) ==[{\n",
        "      \"id\": 1,\n",
        "      \"nombre\": \"Irene\",\n",
        "      \"apodo\": \"Lara\",\n",
        "      \"edad\": 68,\n",
        "      \"salario\": \"$27888\"\n",
        "       }]"
      ]
    },
    {
      "cell_type": "code",
      "execution_count": 18,
      "metadata": {
        "colab": {
          "base_uri": "https://localhost:8080/"
        },
        "id": "6ktekB85TswY",
        "outputId": "8229c145-4c6d-45a0-c141-3f015d546cd5"
      },
      "outputs": [
        {
          "name": "stdout",
          "output_type": "stream",
          "text": [
            "\u001b[1m============================= test session starts =============================\u001b[0m\n",
            "platform win32 -- Python 3.11.1, pytest-7.3.1, pluggy-1.0.0 -- C:\\Users\\Ademar\\AppData\\Local\\Programs\\Python\\Python311\\python.exe\n",
            "cachedir: .pytest_cache\n",
            "rootdir: c:\\Users\\Ademar\\OneDrive\\Desktop\\CC-3S2\\Actividades\\Caso-Refact-Py\n",
            "plugins: cov-4.0.0\n",
            "\u001b[1mcollecting ... \u001b[0mcollected 7 items\n",
            "\n",
            "test_datastats.py::test_json \u001b[32mPASSED\u001b[0m\u001b[32m                                      [ 14%]\u001b[0m\n",
            "test_datastats.py::test__stats \u001b[32mPASSED\u001b[0m\u001b[32m                                    [ 28%]\u001b[0m\n",
            "test_datastats.py::test__edad_promedio \u001b[32mPASSED\u001b[0m\u001b[32m                            [ 42%]\u001b[0m\n",
            "test_datastats.py::test__salario_promedio \u001b[32mPASSED\u001b[0m\u001b[32m                         [ 57%]\u001b[0m\n",
            "test_datastats.py::test__incremento_anual_promedio \u001b[32mPASSED\u001b[0m\u001b[32m                [ 71%]\u001b[0m\n",
            "test_datastats.py::test__max_salario \u001b[32mPASSED\u001b[0m\u001b[32m                              [ 85%]\u001b[0m\n",
            "test_datastats.py::test__min_salario \u001b[32mPASSED\u001b[0m\u001b[32m                              [100%]\u001b[0m\n",
            "\n",
            "\u001b[32m============================== \u001b[32m\u001b[1m7 passed\u001b[0m\u001b[32m in 0.05s\u001b[0m\u001b[32m ==============================\u001b[0m\n"
          ]
        }
      ],
      "source": [
        "! pytest -v test_datastats.py"
      ]
    },
    {
      "cell_type": "code",
      "execution_count": 19,
      "metadata": {
        "colab": {
          "base_uri": "https://localhost:8080/"
        },
        "id": "jZw51vCuYlKI",
        "outputId": "67c66294-3884-432d-90aa-c935fbb25d65"
      },
      "outputs": [
        {
          "name": "stdout",
          "output_type": "stream",
          "text": [
            "Requirement already satisfied: coverage in c:\\users\\ademar\\appdata\\local\\programs\\python\\python311\\lib\\site-packages (7.2.5)\n",
            "Requirement already satisfied: pytest-cov in c:\\users\\ademar\\appdata\\local\\programs\\python\\python311\\lib\\site-packages (4.0.0)\n",
            "Requirement already satisfied: pytest>=4.6 in c:\\users\\ademar\\appdata\\local\\programs\\python\\python311\\lib\\site-packages (from pytest-cov) (7.3.1)\n",
            "Requirement already satisfied: coverage[toml]>=5.2.1 in c:\\users\\ademar\\appdata\\local\\programs\\python\\python311\\lib\\site-packages (from pytest-cov) (7.2.5)\n",
            "Requirement already satisfied: iniconfig in c:\\users\\ademar\\appdata\\local\\programs\\python\\python311\\lib\\site-packages (from pytest>=4.6->pytest-cov) (2.0.0)\n",
            "Requirement already satisfied: packaging in c:\\users\\ademar\\appdata\\roaming\\python\\python311\\site-packages (from pytest>=4.6->pytest-cov) (23.0)\n",
            "Requirement already satisfied: pluggy<2.0,>=0.12 in c:\\users\\ademar\\appdata\\local\\programs\\python\\python311\\lib\\site-packages (from pytest>=4.6->pytest-cov) (1.0.0)\n",
            "Requirement already satisfied: colorama in c:\\users\\ademar\\appdata\\roaming\\python\\python311\\site-packages (from pytest>=4.6->pytest-cov) (0.4.6)\n"
          ]
        }
      ],
      "source": [
        "! pip install coverage\n",
        "! pip install pytest-cov"
      ]
    },
    {
      "cell_type": "code",
      "execution_count": 20,
      "metadata": {
        "colab": {
          "base_uri": "https://localhost:8080/"
        },
        "id": "jIFgMO3ZY2l2",
        "outputId": "d0ab2c4a-22d8-4dac-e179-2330b6d446c1"
      },
      "outputs": [
        {
          "name": "stdout",
          "output_type": "stream",
          "text": [
            "\u001b[1m============================= test session starts =============================\u001b[0m\n",
            "platform win32 -- Python 3.11.1, pytest-7.3.1, pluggy-1.0.0\n",
            "rootdir: c:\\Users\\Ademar\\OneDrive\\Desktop\\CC-3S2\\Actividades\\Caso-Refact-Py\n",
            "plugins: cov-4.0.0\n",
            "collected 0 items\n",
            "\n",
            "\n",
            "---------- coverage: platform win32, python 3.11.1-final-0 -----------\n",
            "Name           Stmts   Miss  Cover\n",
            "----------------------------------\n",
            "datastats.py      22     12    45%\n",
            "----------------------------------\n",
            "TOTAL             22     12    45%\n",
            "\n",
            "\u001b[33m============================ \u001b[33mno tests ran\u001b[0m\u001b[33m in 0.07s\u001b[0m\u001b[33m ============================\u001b[0m\n"
          ]
        }
      ],
      "source": [
        "!pytest --cov=datastats datastats.py"
      ]
    },
    {
      "attachments": {},
      "cell_type": "markdown",
      "metadata": {
        "id": "hgDIIhOFYfRu"
      },
      "source": [
        "#### 8 Reducción de la duplicación de código\n",
        "\n",
        "Del código anterior los dos métodos `_max_salario()` y `_min_salario()` comparten una gran cantidad de código, aunque el segundo es más conciso.\n"
      ]
    },
    {
      "cell_type": "code",
      "execution_count": 21,
      "metadata": {
        "id": "Yw2Wt5ApWzpu"
      },
      "outputs": [],
      "source": [
        "def _max_salario(self, data):\n",
        "  salarios = [int(e['salario'][1:]) for e in data]\n",
        "  limite = '$' + str(max(salarios))\n",
        "\n",
        "  return [e for e in data if e['salario'] == limite]\n",
        "\n",
        "def _min_salario(self, data):\n",
        "  salarios = [int(d['salario'][1:]) for d in data]\n",
        "  return [e for e in data if e['salario'] ==\n",
        "                '$'.format(str(min(salarios)))]"
      ]
    },
    {
      "attachments": {},
      "cell_type": "markdown",
      "metadata": {
        "id": "BIyVkJTCbDXQ"
      },
      "source": [
        "Veamos el caso de la variable `limite` en la segunda función. Tan pronto como se cambie algo, ejecuta las pruebas para verificar que el comportamiento externo no haya cambiado."
      ]
    },
    {
      "cell_type": "code",
      "execution_count": 22,
      "metadata": {
        "id": "gUAs8TCKbNrr"
      },
      "outputs": [],
      "source": [
        "def _max_salario(self, data):\n",
        "  salarios = [int(e['salario'][1:]) for e in data]\n",
        "  limite = '$' + str(max(salarios))\n",
        "\n",
        "  return [e for e in data if e['salario'] == limite]\n",
        "\n",
        "def _min_salario(self, data):\n",
        "  salarios = [int(d['salario'][1:]) for d in data]\n",
        "  limite = '$'.format(str(min(salarios)))\n",
        "    \n",
        "  return [e for e in data if e['salario'] == limite]"
      ]
    },
    {
      "attachments": {},
      "cell_type": "markdown",
      "metadata": {
        "id": "5O6lmgezer9B"
      },
      "source": [
        "Ahora las dos funciones son las mismas pero para las funciones `min()` y `max()`. Todavía usan diferentes nombres de variables y diferentes códigos para formatear el limite, por lo que una primera acción es igualarlos, copiando el código de `_min_salario()` a `_max_salario()` y cambiando `min()` a `max()`-\n"
      ]
    },
    {
      "cell_type": "code",
      "execution_count": 23,
      "metadata": {
        "id": "SthsVqb1faT6"
      },
      "outputs": [],
      "source": [
        "def _max_salario(self, data):\n",
        "  salarios = [int(e['salario'][1:]) for d in data]\n",
        "  limite = '$'.format(str(max(salarios)))\n",
        "\n",
        "  return [e for e in data if e['salario'] == limite]\n",
        "\n",
        "def _min_salario(self, data):\n",
        "  salarios = [int(d['salario'][1:]) for d in data]\n",
        "  limite = '$'.format(str(min(salarios)))\n",
        "    \n",
        "  return [e for e in data if e['salario'] == limite]"
      ]
    },
    {
      "attachments": {},
      "cell_type": "markdown",
      "metadata": {
        "id": "TnmneZ_PgTRO"
      },
      "source": [
        "Creamos la función `_select_salario()` que duplique ese código y acepte una función en lugar de `min()` o `max()`. "
      ]
    },
    {
      "cell_type": "code",
      "execution_count": 25,
      "metadata": {
        "id": "UZ-URnEagusm"
      },
      "outputs": [],
      "source": [
        "def _select_salario(self, data, func):\n",
        "  salarios = [int(d['salario'][1:]) for d in data]\n",
        "  limite = '${}'.format(str(func(salarios)))\n",
        "\n",
        "  return [e for e in data if e['salario'] == limite]\n",
        "\n",
        "def _max_salario(self, data):\n",
        "  return self._select_salario(data, max)\n",
        "\n",
        "def _min_salario(self, data):\n",
        "  return self._select_salario(data, min)"
      ]
    },
    {
      "attachments": {},
      "cell_type": "markdown",
      "metadata": {
        "id": "29ncjBM_hQai"
      },
      "source": [
        "Hay una duplicación de código entre `_salario_promedio()` y `_select_salario()`.\n"
      ]
    },
    {
      "cell_type": "code",
      "execution_count": 26,
      "metadata": {
        "id": "zpdDlJxshVb7"
      },
      "outputs": [],
      "source": [
        "def _salario_promedio(self, data):\n",
        "  return math.floor(sum([int(e['salario'][1:]) for e in data])/len(data))"
      ]
    },
    {
      "cell_type": "code",
      "execution_count": 27,
      "metadata": {
        "id": "A_t0gw9AhZLk"
      },
      "outputs": [],
      "source": [
        "def _select_salario(self, data, func):\n",
        "  salarios = [int(d['salario'][1:]) for d in data]"
      ]
    },
    {
      "attachments": {},
      "cell_type": "markdown",
      "metadata": {
        "id": "WcclOOihhwoh"
      },
      "source": [
        "Extraemos el algoritmo común en un método llamado `_salarios()`, para ello primero escribimos la prueba."
      ]
    },
    {
      "cell_type": "code",
      "execution_count": 28,
      "metadata": {
        "id": "QwZiuyKMh78Z"
      },
      "outputs": [],
      "source": [
        "def test_salarios():\n",
        "  ds = DataStats()\n",
        "  assert ds._salarios(test_data) == [27888, 67137, 70472]"
      ]
    },
    {
      "attachments": {},
      "cell_type": "markdown",
      "metadata": {
        "id": "ud6-O69giMdx"
      },
      "source": [
        "Implementamos el método."
      ]
    },
    {
      "cell_type": "code",
      "execution_count": 29,
      "metadata": {
        "id": "0KDaK85biOyA"
      },
      "outputs": [],
      "source": [
        "def _salarios(self, data):\n",
        "  return [int(d['salario'][1:]) for d in data]"
      ]
    },
    {
      "attachments": {},
      "cell_type": "markdown",
      "metadata": {
        "id": "-yBCenqniclh"
      },
      "source": [
        "Reemplazamos el código duplicado con una llamada al nuevo método."
      ]
    },
    {
      "cell_type": "code",
      "execution_count": 30,
      "metadata": {
        "id": "WVk9eFlDigap"
      },
      "outputs": [],
      "source": [
        "def _salarios(self, data):\n",
        "  return [int(d['salario'][1:]) for d in data]"
      ]
    },
    {
      "cell_type": "code",
      "execution_count": 31,
      "metadata": {
        "id": "YuqYDG-6ilPU"
      },
      "outputs": [],
      "source": [
        "def _select_salario(self, data, func):\n",
        "  limite= '${}'.format(str(func(self._salarios(data))))\n",
        "  return [e for e in data if e['salario'] == limite]"
      ]
    },
    {
      "attachments": {},
      "cell_type": "markdown",
      "metadata": {
        "id": "KOgMn3_Zi-cB"
      },
      "source": [
        "Veamos el código de `_incremento_anual_promedio()`. ¿Cuál es el problema del código?"
      ]
    },
    {
      "cell_type": "code",
      "execution_count": 33,
      "metadata": {
        "id": "WfSVbBrhjdWg"
      },
      "outputs": [],
      "source": [
        "import math\n",
        "def _incremento_anual_promedio(self, data, iedad, isalario):\n",
        "  incremento_edad_promedio = math.floor(\n",
        "      sum([e['edad'] for e in data])/len(data)) - iedad\n",
        "    \n",
        "  incremento_salario_promedio = math.floor(\n",
        "      sum(self._salarios(data))/len(data)) - isalario\n",
        "        \n",
        "  return math.floor(incremento_salario_promedio/incremento_edad_promedio)"
      ]
    },
    {
      "attachments": {},
      "cell_type": "markdown",
      "metadata": {
        "id": "qJ8cac0uj93B"
      },
      "source": [
        "El código de `_incremento_anual_promedio()` contiene el código de los métodos `_edad_promedio()` y `_salario_promedio()`, por lo que vale la pena reemplazarlo con dos llamadas. "
      ]
    },
    {
      "cell_type": "code",
      "execution_count": 34,
      "metadata": {
        "id": "Y5Nfl4BDkqnX"
      },
      "outputs": [],
      "source": [
        "import math\n",
        "def _incremento_anual_promedio(self, data, iedad, isalario):\n",
        "  incremento_edad_promedio= self._edad_promedio(data) - iedad\n",
        "  incremento_salario_promedio = self._salario_promedio(data) - isalario\n",
        "\n",
        "  return math.floor(incremento_salario_promedio/incremento_edad_promedio)"
      ]
    },
    {
      "cell_type": "code",
      "execution_count": null,
      "metadata": {},
      "outputs": [],
      "source": [
        "%%writefile datastats.py \n",
        "import math\n",
        "import json\n",
        "\n",
        "class DataStats:\n",
        "  def _max_salario(self, data):\n",
        "    return self._select_salario(data, max)\n",
        "\n",
        "  def _min_salario(self, data):\n",
        "    return self._select_salario(data, min)\n",
        "\n",
        "  def _salarios(self, data):\n",
        "  return [int(d['salario'][1:]) for d in data]\n",
        "  \n",
        "  \n",
        "  def _stats(self, data, iedad, isalario):\n",
        "    return {\n",
        "            'edad_promedio': self._edad_promedio(data),\n",
        "            'salario_promedio': self._salario_promedio(data),\n",
        "            'incremento_anual_promedio': self._incremento_anual_promedio(\n",
        "                data, iedad, isalario),\n",
        "            'max_salario': self._max_salario(data),\n",
        "            'min_salario': self._min_salario(data)\n",
        "        }\n",
        "\n",
        "  def stats(self, data, iedad, isalario):\n",
        "    return json.dumps(\n",
        "      self._stats(data, iedad, isalario)\n",
        "  )"
      ]
    },
    {
      "attachments": {},
      "cell_type": "markdown",
      "metadata": {
        "id": "v_vVOsYzlmkk"
      },
      "source": [
        "#### 9 Refactorización avanzada\n",
        "\n",
        "El objetivo es cambiar la clase actual para que coincida con la nueva API y luego crear una clase que envuelva la primera y proporcione la API anterior. . La estrategia no es tan diferente de lo que hicimos anteriormente, solo que esta vez trataremos con clases en lugar de métodos. Con un estupendo esfuerzo de mi imaginación nombré a la nueva clase `NDataStats`. \n",
        "\n",
        "Lo primero, como sucede muy a menudo con la refactorización, es duplicar el código, y cuando insertamos código nuevo necesitamos tener pruebas que lo justifiquen. \n",
        "\n",
        "Las pruebas serán las mismas que antes, ya que la nueva clase proporcionará las mismas funcionalidades que la anterior, así que solo crea un nuevo archivo, llamado `test_ndatastats.py` y allí se coloca la primera prueba `test_init()`."
      ]
    },
    {
      "cell_type": "code",
      "execution_count": null,
      "metadata": {
        "colab": {
          "base_uri": "https://localhost:8080/"
        },
        "id": "BJo4lXPYnjW-",
        "outputId": "7e764c4f-d975-4f6a-d543-224da3d4b5e9"
      },
      "outputs": [],
      "source": [
        "%%writefile test_ndatastats.py\n",
        "import json\n",
        "\n",
        "from datastats import NDataStats\n",
        "test_data = [\n",
        "    {\n",
        "          \"id\": 1,\n",
        "          \"nombre\": \"Irene\",\n",
        "          \"apodo\": \"Lara\",\n",
        "          \"edad\": 68,\n",
        "          \"salario\": \"$27888\" \n",
        "        },\n",
        "       \n",
        "       {\n",
        "           \"id\": 2,\n",
        "          \"nombre\": \"Claudio\",\n",
        "          \"apodo\": \"Avila\",\n",
        "          \"edad\": 49,\n",
        "          \"salario\": \"$67137\"\n",
        "      },\n",
        "      {\n",
        "          \"id\": 3,\n",
        "          \"nombre\": \"Tomo\",\n",
        "          \"apodo\": \"Frugs\",\n",
        "          \"edad\": 70,\n",
        "          \"salario\": \"$70472\"\n",
        "      }\n",
        "    \n",
        "]\n",
        "\n",
        "def test_init():\n",
        "  ds = NDataStats(test_data)\n",
        "  assert ds.data == test_data"
      ]
    },
    {
      "attachments": {},
      "cell_type": "markdown",
      "metadata": {
        "id": "BfQQxBiMqssN"
      },
      "source": [
        "**Pregunta:** Escribe la nueva clase `NdataStats` en el archivo `datastats.py` y comprueba si la prueba anterior pasa."
      ]
    },
    {
      "cell_type": "code",
      "execution_count": null,
      "metadata": {
        "id": "xZozYH62rYCI"
      },
      "outputs": [],
      "source": [
        "# Tu respuesta."
      ]
    },
    {
      "attachments": {},
      "cell_type": "markdown",
      "metadata": {
        "id": "YNsqV5aDrrNg"
      },
      "source": [
        "Ahora iniciamos un proceso iterativo:\n",
        "\n",
        "- Copia una de las pruebas de `DataStats` y adapta  a `NDataStats`\n",
        "- Copia algo de código de `DataStats` a `NDataStats`, adaptándolo a la nueva API y haciendo pasar una prueba.\n",
        "\n",
        "En este punto, eliminar iterativamente métodos de `DataStats` y reemplazarlos con una llamada a `NDataStats` es una exageración.\n",
        "\n",
        "Un ejemplo de las pruebas resultantes para `NDataStats` es el siguiente:"
      ]
    },
    {
      "cell_type": "code",
      "execution_count": null,
      "metadata": {
        "id": "z_lQ9SUupVgl"
      },
      "outputs": [],
      "source": [
        "#def test_edad():\n",
        "#  ds = NDataStats(test_data)\n",
        "#   assert ds._edades() == [68, 49, 70]"
      ]
    },
    {
      "attachments": {},
      "cell_type": "markdown",
      "metadata": {
        "id": "YqPUMmJNsg1g"
      },
      "source": [
        "Y el código que pasa la prueba para este caso es:"
      ]
    },
    {
      "cell_type": "code",
      "execution_count": null,
      "metadata": {
        "id": "2Xvmgoa0scs7"
      },
      "outputs": [],
      "source": [
        "#def _edades(self):\n",
        "#  return [d['edad'] for d in self.data]"
      ]
    },
    {
      "attachments": {},
      "cell_type": "markdown",
      "metadata": {
        "id": "hFD-Qwe6tFec"
      },
      "source": [
        "Los métodos como `_edades()` ya no requieren un parámetro de entrada y se pueden convertir convertirlos en propiedades, cambiando las pruebas con `@property`."
      ]
    },
    {
      "attachments": {},
      "cell_type": "markdown",
      "metadata": {
        "id": "6xJwRAQmuP_Q"
      },
      "source": [
        "Es hora de reemplazar los métodos de `DataStats` con llamadas a `NDataStats`. Podríamos hacerlo método por método, pero en realidad lo único que realmente necesitamos es reemplazar `stats()`. Así que el nuevo código es:"
      ]
    },
    {
      "cell_type": "code",
      "execution_count": null,
      "metadata": {
        "id": "3n8RYUT4ttFq"
      },
      "outputs": [],
      "source": [
        "#class DataStats:\n",
        "#  def stats(self, data, iedad, isalario):\n",
        "#    nds = NDataStats(data)\n",
        "#    return nds.stats(iedad, isalario)"
      ]
    },
    {
      "attachments": {},
      "cell_type": "markdown",
      "metadata": {
        "id": "5DQXGliOlMQx"
      },
      "source": [
        "**Pregunta:** Edita los archivos necesarios para ejecutar la prueba. ¿Cuál es el código de cobertura para este ejemplo."
      ]
    },
    {
      "cell_type": "code",
      "execution_count": null,
      "metadata": {
        "id": "3c8audA-lX0w"
      },
      "outputs": [],
      "source": [
        "# Tu respuesta"
      ]
    },
    {
      "attachments": {},
      "cell_type": "markdown",
      "metadata": {
        "id": "kQFD-QzmvPX1"
      },
      "source": [
        "**Pregunta:** La refactorización es un proceso iterativo, a menudo sucederá que crees que hiciste todo lo posible, solo para descubrir más tarde que te perdiste algo. En este caso, el paso faltante es una pequeña duplicación de código.\n",
        "\n",
        "Las dos funciones comparten la misma lógica, por lo que definitivamente podemos aislar esto  y llamar al código común en cada función."
      ]
    },
    {
      "cell_type": "code",
      "execution_count": null,
      "metadata": {
        "id": "7GTchJEpw1dt"
      },
      "outputs": [],
      "source": [
        "#def _salario_promedio(self):\n",
        "#  return math.floor(sum(self._salarios)/len(self.data))\n",
        "\n",
        "#def _edad_promedio(self):\n",
        "#  return math.floor(sum(self._edades)/len(self.data))"
      ]
    },
    {
      "cell_type": "code",
      "execution_count": null,
      "metadata": {
        "id": "6oLDObFXxBf8"
      },
      "outputs": [],
      "source": [
        "#def _promedio_floor(self, suma_de_numberos):\n",
        "#  return math.floor(suma_de_numeros / len(self.data))\n",
        "\n",
        "#def _salario_promedio(self):\n",
        "#  return self._promedio_floor(sum(self._salarios))\n",
        "\n",
        "#def _edad_promedio(self):\n",
        "#  return self._promedio_floor(sum(self._edades))"
      ]
    },
    {
      "attachments": {},
      "cell_type": "markdown",
      "metadata": {
        "id": "CVjZOwOqxKR0"
      },
      "source": [
        "Edita los archivos necesarios para ejecutar la prueba. ¿Cuál es el código de cobertura para este ejemplo."
      ]
    },
    {
      "cell_type": "code",
      "execution_count": null,
      "metadata": {
        "id": "RwKyWn1exN2R"
      },
      "outputs": [],
      "source": [
        "## Tu respuesta."
      ]
    },
    {
      "attachments": {},
      "cell_type": "markdown",
      "metadata": {
        "id": "tjAQdfPAxQGs"
      },
      "source": [
        "**Referencias**\n",
        "\n",
        "- [Why do developers hate code coverage? And why they should not hate it!](https://www.effective-software-testing.com/why-do-developers-hate-code-coverage)\n",
        "- [Do unit tests make refactoring harder?](https://www.effective-software-testing.com/do-unit-tests-make-refactoring-harder)."
      ]
    },
    {
      "cell_type": "code",
      "execution_count": null,
      "metadata": {
        "id": "C70mdSPryNDn"
      },
      "outputs": [],
      "source": [
        "class NDataStats:\n",
        "  def stats(self, data, iedad, isalario):\n",
        "    incremento_edad_promedio = math.floor(sum([e['edad'] for e in data])/len(data)) - iedad\n",
        "    incremento_salario_promedio = math.floor( sum([int(e['salario'][1:]) for e in data])/len(data)) - isalario\n",
        "\n",
        "    incremento_anual_promedio = math.floor(incremento_salario_promedio/incremento_edad_promedio)\n",
        "\n",
        "    salarios = [int(e['salario'][1:]) for e in data]\n",
        "    limite = '$' + str(max(salarios))\n",
        "\n",
        "    max_salario = [e for e in data if e['salario'] == limite]\n",
        "\n",
        "    salarios = [int(d['salario'][1:]) for d in data]\n",
        "    min_salario = [e for e in data if e['salario'] ==\n",
        "                      '${}'.format(str(min(salarios)))]\n",
        "\n",
        "    return json.dumps({\n",
        "        'edad_promedio': math.floor(sum([e['edad'] for e in data])/len(data)),\n",
        "        'salario_promedio': math.floor(sum( [int(e['salario'][1:]) for e in data])/len(data)),\n",
        "        'incremento_anual_promedio': incremento_anual_promedio,\n",
        "        'max_salario': max_salario,\n",
        "        'min_salario': min_salario\n",
        "        })"
      ]
    }
  ],
  "metadata": {
    "colab": {
      "authorship_tag": "ABX9TyOxkttDmi3ym0o2Frcu5kyJ",
      "include_colab_link": true,
      "provenance": []
    },
    "kernelspec": {
      "display_name": "Python 3",
      "language": "python",
      "name": "python3"
    },
    "language_info": {
      "codemirror_mode": {
        "name": "ipython",
        "version": 3
      },
      "file_extension": ".py",
      "mimetype": "text/x-python",
      "name": "python",
      "nbconvert_exporter": "python",
      "pygments_lexer": "ipython3",
      "version": "3.11.1"
    },
    "polyglot_notebook": {
      "kernelInfo": {
        "defaultKernelName": "csharp",
        "items": [
          {
            "aliases": [],
            "name": "csharp"
          }
        ]
      }
    }
  },
  "nbformat": 4,
  "nbformat_minor": 0
}
